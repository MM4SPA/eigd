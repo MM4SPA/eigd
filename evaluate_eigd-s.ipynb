{
 "cells": [
  {
   "cell_type": "code",
   "execution_count": null,
   "metadata": {},
   "outputs": [],
   "source": [
    "import pandas as pd\n",
    "from utils.scenes import get_annotator_soccer_scenes\n",
    "from utils.validation import perform_full_validation\n",
    "from utils.eval import (\n",
    "    format_nnm_output,\n",
    "    format_scm_output,\n",
    "    result_records2df,\n",
    "    stack_df_nnm_scm,\n",
    ")\n",
    "\n",
    "df = pd.read_json(\"data/eigd/soccer/event_annotations.jsonl\", lines=True, orient=\"records\")"
   ]
  },
  {
   "cell_type": "code",
   "execution_count": null,
   "metadata": {},
   "outputs": [],
   "source": [
    "# extract annotator sequences\n",
    "sequences_a = get_annotator_soccer_scenes(df, 0)\n",
    "sequences_b = get_annotator_soccer_scenes(df, 1)\n",
    "sequences_c = get_annotator_soccer_scenes(df, 2)\n",
    "sequences_d = get_annotator_soccer_scenes(df, 3)\n",
    "sequences_e = get_annotator_soccer_scenes(df, 4)\n",
    "\n",
    "# evaluate mean expert performance -> precision == recall\n",
    "predictions = [sequences_a, sequences_b, sequences_c, sequences_d, sequences_e]\n",
    "references = [sequences_a, sequences_b, sequences_c, sequences_d, sequences_e]\n",
    "\n",
    "# validate\n",
    "df_results = result_records2df(perform_full_validation(predictions, references))\n",
    "df_results"
   ]
  },
  {
   "cell_type": "code",
   "execution_count": null,
   "metadata": {},
   "outputs": [],
   "source": [
    "df_results_nnm = format_nnm_output(df_results)\n",
    "df_results_scm = format_scm_output(df_results)\n",
    "df_nnm_scm = stack_df_nnm_scm(df_results_nnm, df_results_scm)\n",
    "df_nnm_scm"
   ]
  },
  {
   "cell_type": "code",
   "execution_count": null,
   "metadata": {},
   "outputs": [],
   "source": [
    "df_nnm_scm[\n",
    "    [\n",
    "        (\"NNM\", \"precision\"),\n",
    "        (\"NNM\", \"recall\"),\n",
    "        (\"SCM\", \"precision\"),\n",
    "        (\"SCM\", \"recall\"),\n",
    "        (\"SCM\", \"SQC_frac\"),\n",
    "    ]\n",
    "]"
   ]
  }
 ],
 "metadata": {
  "interpreter": {
   "hash": "704b022f8dbc5ff8df6831b7d6ee072e5afabcfeeb1e1314a8b0056cee1434e1"
  },
  "kernelspec": {
   "display_name": "Python 3.9.7 ('eigd')",
   "language": "python",
   "name": "python3"
  },
  "language_info": {
   "codemirror_mode": {
    "name": "ipython",
    "version": 3
   },
   "file_extension": ".py",
   "mimetype": "text/x-python",
   "name": "python",
   "nbconvert_exporter": "python",
   "pygments_lexer": "ipython3",
   "version": "3.9.7"
  },
  "orig_nbformat": 4
 },
 "nbformat": 4,
 "nbformat_minor": 2
}
